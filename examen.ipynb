{
 "cells": [
  {
   "attachments": {},
   "cell_type": "markdown",
   "metadata": {},
   "source": [
    "# Examen EDA"
   ]
  },
  {
   "attachments": {},
   "cell_type": "markdown",
   "metadata": {},
   "source": [
    "Forest Covertype data (https://archive.ics.uci.edu/ml/datasets/Covertype )es un conjunto de datos cargado en la librería sklearn que permite realizar un ejercicio tipo problemas de clasificación. El objetivo de este dataset es estudiar las variables cartográficas para poder predecir el tipo de cubierta forestal. El tipo real de cubierta forestal para una observación (celda de 30 x 30 metros) se ha determinado a partir de los datos del Servicio Forestal de EE.UU. (USFS).\n",
    "\n",
    "Los datos están en forma cruda (sin escalar) y contienen columnas binarias (0 o 1) de datos para variables independientes cualitativas (áreas silvestres y tipos de suelo).\n",
    "\n",
    "Estas áreas de estudio representan bosques con mínimas perturbaciones causadas por el hombre, por lo que los tipos de cubierta forestal existentes son más el resultado de procesos ecológicos, que de prácticas de gestión forestal."
   ]
  },
  {
   "attachments": {},
   "cell_type": "markdown",
   "metadata": {},
   "source": [
    "#### Importamos las bibliotecas"
   ]
  },
  {
   "cell_type": "code",
   "execution_count": 1,
   "metadata": {},
   "outputs": [],
   "source": [
    "import pandas as pd\n",
    "import numpy as np\n",
    "import matplotlib.pyplot as plt\n",
    "import seaborn as sns\n",
    "from sklearn.tree import DecisionTreeRegressor\n",
    "from sklearn.preprocessing import MinMaxScaler\n"
   ]
  },
  {
   "attachments": {},
   "cell_type": "markdown",
   "metadata": {},
   "source": [
    "#### Leemos el dataset"
   ]
  },
  {
   "cell_type": "code",
   "execution_count": 2,
   "metadata": {},
   "outputs": [
    {
     "name": "stdout",
     "output_type": "stream",
     "text": [
      "Cargando el conjunto de datos...\n",
      "Conjunto de datos cargado.\n",
      "\n"
     ]
    },
    {
     "name": "stderr",
     "output_type": "stream",
     "text": [
      "C:\\Users\\Claudia\\AppData\\Local\\Temp\\ipykernel_11716\\2737760931.py:2: DtypeWarning: Columns (0,1,2,3,4,5,6,7,8,9,10,11,12,13,14,15,16,17,18,19,20,21,22,23,24,25,26,27,28,29,30,31,32,33,34,35,36,37,38,39,40,41,42,43,44,45,46,47,48,49,50,51,52,53,54) have mixed types. Specify dtype option on import or set low_memory=False.\n",
      "  df = pd.read_csv('covtype.data', header=None)\n"
     ]
    }
   ],
   "source": [
    "print(\"Cargando el conjunto de datos...\")\n",
    "df = pd.read_csv('covtype.data', header=None)\n",
    "print(\"Conjunto de datos cargado.\\n\")"
   ]
  },
  {
   "attachments": {},
   "cell_type": "markdown",
   "metadata": {},
   "source": [
    "#### Asignamos nombres a las columnas"
   ]
  },
  {
   "cell_type": "code",
   "execution_count": 3,
   "metadata": {},
   "outputs": [
    {
     "name": "stdout",
     "output_type": "stream",
     "text": [
      "Asignando nombres a las columnas...\n",
      "Nombres de columnas asignados.\n",
      "\n"
     ]
    }
   ],
   "source": [
    "print(\"Asignando nombres a las columnas...\")\n",
    "basic_cols = ['Elevation', 'Aspect', 'Slope', 'Horizontal_Distance_To_Hydrology', \n",
    "              'Vertical_Distance_To_Hydrology', 'Horizontal_Distance_To_Roadways', \n",
    "              'Hillshade_9am', 'Hillshade_Noon', 'Hillshade_3pm', \n",
    "              'Horizontal_Distance_To_Fire_Points']\n",
    "\n",
    "wilderness_cols = ['Wilderness_Area_' + str(i) for i in range(1, 5)]\n",
    "soil_cols = ['Soil_Type_' + str(i) for i in range(1, 41)]\n",
    "\n",
    "all_cols = basic_cols + wilderness_cols + soil_cols + ['Cover_Type']\n",
    "df.columns = all_cols\n",
    "print(\"Nombres de columnas asignados.\\n\")"
   ]
  },
  {
   "attachments": {},
   "cell_type": "markdown",
   "metadata": {},
   "source": [
    "#### Preprocesamos las columnas Wilderness_Area y Soil_Type"
   ]
  },
  {
   "cell_type": "code",
   "execution_count": 4,
   "metadata": {},
   "outputs": [
    {
     "name": "stdout",
     "output_type": "stream",
     "text": [
      "Preprocesando las columnas Wilderness_Area y Soil_Type...\n",
      "Preprocesamiento completado.\n",
      "\n"
     ]
    }
   ],
   "source": [
    "print(\"Preprocesando las columnas Wilderness_Area y Soil_Type...\")\n",
    "df['Wilderness_Area'] = df[wilderness_cols].max(axis=1)\n",
    "df.drop(wilderness_cols, axis=1, inplace=True)\n",
    "\n",
    "df['Soil_Type'] = df[soil_cols].max(axis=1)\n",
    "df.drop(soil_cols, axis=1, inplace=True)\n",
    "print(\"Preprocesamiento completado.\\n\")"
   ]
  },
  {
   "attachments": {},
   "cell_type": "markdown",
   "metadata": {},
   "source": [
    "#### Verificamos el contenido de nuestro DataFrame"
   ]
  },
  {
   "cell_type": "code",
   "execution_count": 5,
   "metadata": {},
   "outputs": [
    {
     "name": "stdout",
     "output_type": "stream",
     "text": [
      "Información del DataFrame:\n",
      "<class 'pandas.core.frame.DataFrame'>\n",
      "RangeIndex: 581013 entries, 0 to 581012\n",
      "Data columns (total 13 columns):\n",
      " #   Column                              Non-Null Count   Dtype \n",
      "---  ------                              --------------   ----- \n",
      " 0   Elevation                           581013 non-null  object\n",
      " 1   Aspect                              581013 non-null  object\n",
      " 2   Slope                               581013 non-null  object\n",
      " 3   Horizontal_Distance_To_Hydrology    581013 non-null  object\n",
      " 4   Vertical_Distance_To_Hydrology      581013 non-null  object\n",
      " 5   Horizontal_Distance_To_Roadways     581013 non-null  object\n",
      " 6   Hillshade_9am                       581013 non-null  object\n",
      " 7   Hillshade_Noon                      581013 non-null  object\n",
      " 8   Hillshade_3pm                       581013 non-null  object\n",
      " 9   Horizontal_Distance_To_Fire_Points  581013 non-null  object\n",
      " 10  Cover_Type                          581013 non-null  object\n",
      " 11  Wilderness_Area                     581013 non-null  object\n",
      " 12  Soil_Type                           581013 non-null  object\n",
      "dtypes: object(13)\n",
      "memory usage: 57.6+ MB\n",
      "None\n"
     ]
    }
   ],
   "source": [
    "print(\"Información del DataFrame:\")\n",
    "print(df.info())"
   ]
  },
  {
   "attachments": {},
   "cell_type": "markdown",
   "metadata": {},
   "source": [
    "#### Verificamos si hay valores nulos"
   ]
  },
  {
   "cell_type": "code",
   "execution_count": 6,
   "metadata": {},
   "outputs": [
    {
     "name": "stdout",
     "output_type": "stream",
     "text": [
      "\n",
      "Verificando si hay valores nulos...\n",
      "Número de valores nulos en cada columna:\n",
      " Elevation                             0\n",
      "Aspect                                0\n",
      "Slope                                 0\n",
      "Horizontal_Distance_To_Hydrology      0\n",
      "Vertical_Distance_To_Hydrology        0\n",
      "Horizontal_Distance_To_Roadways       0\n",
      "Hillshade_9am                         0\n",
      "Hillshade_Noon                        0\n",
      "Hillshade_3pm                         0\n",
      "Horizontal_Distance_To_Fire_Points    0\n",
      "Cover_Type                            0\n",
      "Wilderness_Area                       0\n",
      "Soil_Type                             0\n",
      "dtype: int64\n"
     ]
    }
   ],
   "source": [
    "print(\"\\nVerificando si hay valores nulos...\")\n",
    "nulos = df.isna().sum()\n",
    "print(\"Número de valores nulos en cada columna:\\n\", nulos)"
   ]
  },
  {
   "attachments": {},
   "cell_type": "markdown",
   "metadata": {},
   "source": [
    "#### Verificamos si hay filas duplicadas"
   ]
  },
  {
   "cell_type": "code",
   "execution_count": 7,
   "metadata": {},
   "outputs": [
    {
     "name": "stdout",
     "output_type": "stream",
     "text": [
      "\n",
      "Verificando si hay filas duplicadas...\n",
      "No se encuentran filas duplicadas.\n"
     ]
    }
   ],
   "source": [
    "print(\"\\nVerificando si hay filas duplicadas...\")\n",
    "duplicate_count = df.duplicated().sum()\n",
    "if duplicate_count > 0:\n",
    "    print(f'Total de filas duplicadas: {duplicate_count}')\n",
    "else:\n",
    "    print('No se encuentran filas duplicadas.')"
   ]
  },
  {
   "attachments": {},
   "cell_type": "markdown",
   "metadata": {},
   "source": [
    "### Ejercicio 1"
   ]
  },
  {
   "attachments": {},
   "cell_type": "markdown",
   "metadata": {},
   "source": [
    "Para conseguir un dataset con una dimensión reducidad, aplica la técnica de Selección de variables basada en árbol de decisión mediante las importancias de cada variable (Decision Trees Importances):\n",
    "\n",
    "Filtra el tablón para quedarnos solamente con las variables que aglutinan hasta el 95% de la información que se requiere para estimar la variable objetivo.\n",
    "random_state=100"
   ]
  },
  {
   "cell_type": "code",
   "execution_count": 8,
   "metadata": {},
   "outputs": [],
   "source": [
    "df_f1 = df.copy()"
   ]
  },
  {
   "cell_type": "code",
   "execution_count": 9,
   "metadata": {},
   "outputs": [],
   "source": [
    "target = 'Cover_Type'\n",
    "features = [x for x in df_f1.columns if x!=target]\n",
    "arbol = DecisionTreeRegressor(random_state=100)"
   ]
  },
  {
   "cell_type": "code",
   "execution_count": 10,
   "metadata": {},
   "outputs": [],
   "source": [
    "df_f1 = df.copy()\n",
    "df_f1['Cover_Type'] = pd.factorize(df_f1['Cover_Type'])[0]\n"
   ]
  },
  {
   "cell_type": "code",
   "execution_count": 11,
   "metadata": {},
   "outputs": [
    {
     "data": {
      "text/html": [
       "<style>#sk-container-id-1 {color: black;background-color: white;}#sk-container-id-1 pre{padding: 0;}#sk-container-id-1 div.sk-toggleable {background-color: white;}#sk-container-id-1 label.sk-toggleable__label {cursor: pointer;display: block;width: 100%;margin-bottom: 0;padding: 0.3em;box-sizing: border-box;text-align: center;}#sk-container-id-1 label.sk-toggleable__label-arrow:before {content: \"▸\";float: left;margin-right: 0.25em;color: #696969;}#sk-container-id-1 label.sk-toggleable__label-arrow:hover:before {color: black;}#sk-container-id-1 div.sk-estimator:hover label.sk-toggleable__label-arrow:before {color: black;}#sk-container-id-1 div.sk-toggleable__content {max-height: 0;max-width: 0;overflow: hidden;text-align: left;background-color: #f0f8ff;}#sk-container-id-1 div.sk-toggleable__content pre {margin: 0.2em;color: black;border-radius: 0.25em;background-color: #f0f8ff;}#sk-container-id-1 input.sk-toggleable__control:checked~div.sk-toggleable__content {max-height: 200px;max-width: 100%;overflow: auto;}#sk-container-id-1 input.sk-toggleable__control:checked~label.sk-toggleable__label-arrow:before {content: \"▾\";}#sk-container-id-1 div.sk-estimator input.sk-toggleable__control:checked~label.sk-toggleable__label {background-color: #d4ebff;}#sk-container-id-1 div.sk-label input.sk-toggleable__control:checked~label.sk-toggleable__label {background-color: #d4ebff;}#sk-container-id-1 input.sk-hidden--visually {border: 0;clip: rect(1px 1px 1px 1px);clip: rect(1px, 1px, 1px, 1px);height: 1px;margin: -1px;overflow: hidden;padding: 0;position: absolute;width: 1px;}#sk-container-id-1 div.sk-estimator {font-family: monospace;background-color: #f0f8ff;border: 1px dotted black;border-radius: 0.25em;box-sizing: border-box;margin-bottom: 0.5em;}#sk-container-id-1 div.sk-estimator:hover {background-color: #d4ebff;}#sk-container-id-1 div.sk-parallel-item::after {content: \"\";width: 100%;border-bottom: 1px solid gray;flex-grow: 1;}#sk-container-id-1 div.sk-label:hover label.sk-toggleable__label {background-color: #d4ebff;}#sk-container-id-1 div.sk-serial::before {content: \"\";position: absolute;border-left: 1px solid gray;box-sizing: border-box;top: 0;bottom: 0;left: 50%;z-index: 0;}#sk-container-id-1 div.sk-serial {display: flex;flex-direction: column;align-items: center;background-color: white;padding-right: 0.2em;padding-left: 0.2em;position: relative;}#sk-container-id-1 div.sk-item {position: relative;z-index: 1;}#sk-container-id-1 div.sk-parallel {display: flex;align-items: stretch;justify-content: center;background-color: white;position: relative;}#sk-container-id-1 div.sk-item::before, #sk-container-id-1 div.sk-parallel-item::before {content: \"\";position: absolute;border-left: 1px solid gray;box-sizing: border-box;top: 0;bottom: 0;left: 50%;z-index: -1;}#sk-container-id-1 div.sk-parallel-item {display: flex;flex-direction: column;z-index: 1;position: relative;background-color: white;}#sk-container-id-1 div.sk-parallel-item:first-child::after {align-self: flex-end;width: 50%;}#sk-container-id-1 div.sk-parallel-item:last-child::after {align-self: flex-start;width: 50%;}#sk-container-id-1 div.sk-parallel-item:only-child::after {width: 0;}#sk-container-id-1 div.sk-dashed-wrapped {border: 1px dashed gray;margin: 0 0.4em 0.5em 0.4em;box-sizing: border-box;padding-bottom: 0.4em;background-color: white;}#sk-container-id-1 div.sk-label label {font-family: monospace;font-weight: bold;display: inline-block;line-height: 1.2em;}#sk-container-id-1 div.sk-label-container {text-align: center;}#sk-container-id-1 div.sk-container {/* jupyter's `normalize.less` sets `[hidden] { display: none; }` but bootstrap.min.css set `[hidden] { display: none !important; }` so we also need the `!important` here to be able to override the default hidden behavior on the sphinx rendered scikit-learn.org. See: https://github.com/scikit-learn/scikit-learn/issues/21755 */display: inline-block !important;position: relative;}#sk-container-id-1 div.sk-text-repr-fallback {display: none;}</style><div id=\"sk-container-id-1\" class=\"sk-top-container\"><div class=\"sk-text-repr-fallback\"><pre>DecisionTreeRegressor(random_state=100)</pre><b>In a Jupyter environment, please rerun this cell to show the HTML representation or trust the notebook. <br />On GitHub, the HTML representation is unable to render, please try loading this page with nbviewer.org.</b></div><div class=\"sk-container\" hidden><div class=\"sk-item\"><div class=\"sk-estimator sk-toggleable\"><input class=\"sk-toggleable__control sk-hidden--visually\" id=\"sk-estimator-id-1\" type=\"checkbox\" checked><label for=\"sk-estimator-id-1\" class=\"sk-toggleable__label sk-toggleable__label-arrow\">DecisionTreeRegressor</label><div class=\"sk-toggleable__content\"><pre>DecisionTreeRegressor(random_state=100)</pre></div></div></div></div></div>"
      ],
      "text/plain": [
       "DecisionTreeRegressor(random_state=100)"
      ]
     },
     "execution_count": 11,
     "metadata": {},
     "output_type": "execute_result"
    }
   ],
   "source": [
    "for col in features:\n",
    "    df_f1[col] = pd.to_numeric(df_f1[col], errors='coerce')\n",
    "\n",
    "df_f1.fillna(0, inplace=True)\n",
    "\n",
    "arbol.fit(X=df_f1[features], y=df_f1[target])\n"
   ]
  },
  {
   "attachments": {},
   "cell_type": "markdown",
   "metadata": {},
   "source": [
    "### Variables importantes"
   ]
  },
  {
   "cell_type": "code",
   "execution_count": 12,
   "metadata": {},
   "outputs": [],
   "source": [
    "importancias = arbol.feature_importances_"
   ]
  },
  {
   "cell_type": "code",
   "execution_count": 13,
   "metadata": {},
   "outputs": [
    {
     "data": {
      "text/html": [
       "<div>\n",
       "<style scoped>\n",
       "    .dataframe tbody tr th:only-of-type {\n",
       "        vertical-align: middle;\n",
       "    }\n",
       "\n",
       "    .dataframe tbody tr th {\n",
       "        vertical-align: top;\n",
       "    }\n",
       "\n",
       "    .dataframe thead th {\n",
       "        text-align: right;\n",
       "    }\n",
       "</style>\n",
       "<table border=\"1\" class=\"dataframe\">\n",
       "  <thead>\n",
       "    <tr style=\"text-align: right;\">\n",
       "      <th></th>\n",
       "      <th>Importancia</th>\n",
       "    </tr>\n",
       "  </thead>\n",
       "  <tbody>\n",
       "    <tr>\n",
       "      <th>Elevation</th>\n",
       "      <td>0.350242</td>\n",
       "    </tr>\n",
       "    <tr>\n",
       "      <th>Horizontal_Distance_To_Fire_Points</th>\n",
       "      <td>0.153900</td>\n",
       "    </tr>\n",
       "    <tr>\n",
       "      <th>Horizontal_Distance_To_Roadways</th>\n",
       "      <td>0.124187</td>\n",
       "    </tr>\n",
       "    <tr>\n",
       "      <th>Vertical_Distance_To_Hydrology</th>\n",
       "      <td>0.070369</td>\n",
       "    </tr>\n",
       "    <tr>\n",
       "      <th>Horizontal_Distance_To_Hydrology</th>\n",
       "      <td>0.067988</td>\n",
       "    </tr>\n",
       "    <tr>\n",
       "      <th>Aspect</th>\n",
       "      <td>0.054868</td>\n",
       "    </tr>\n",
       "    <tr>\n",
       "      <th>Hillshade_9am</th>\n",
       "      <td>0.049818</td>\n",
       "    </tr>\n",
       "    <tr>\n",
       "      <th>Hillshade_Noon</th>\n",
       "      <td>0.047782</td>\n",
       "    </tr>\n",
       "    <tr>\n",
       "      <th>Hillshade_3pm</th>\n",
       "      <td>0.044413</td>\n",
       "    </tr>\n",
       "    <tr>\n",
       "      <th>Slope</th>\n",
       "      <td>0.036433</td>\n",
       "    </tr>\n",
       "  </tbody>\n",
       "</table>\n",
       "</div>"
      ],
      "text/plain": [
       "                                    Importancia\n",
       "Elevation                              0.350242\n",
       "Horizontal_Distance_To_Fire_Points     0.153900\n",
       "Horizontal_Distance_To_Roadways        0.124187\n",
       "Vertical_Distance_To_Hydrology         0.070369\n",
       "Horizontal_Distance_To_Hydrology       0.067988\n",
       "Aspect                                 0.054868\n",
       "Hillshade_9am                          0.049818\n",
       "Hillshade_Noon                         0.047782\n",
       "Hillshade_3pm                          0.044413\n",
       "Slope                                  0.036433"
      ]
     },
     "execution_count": 13,
     "metadata": {},
     "output_type": "execute_result"
    }
   ],
   "source": [
    "df_importancia = pd.DataFrame(arbol.feature_importances_, index=features, columns=[\"Importancia\"])\n",
    "\n",
    "df_importancia.sort_values(by=df_importancia.columns[0], ascending=False, inplace=True) #ORDENAR DATA FRAME: DECRECIENTE\n",
    "\n",
    "df_importancia.head(10)"
   ]
  },
  {
   "cell_type": "code",
   "execution_count": 14,
   "metadata": {},
   "outputs": [
    {
     "data": {
      "text/html": [
       "<div>\n",
       "<style scoped>\n",
       "    .dataframe tbody tr th:only-of-type {\n",
       "        vertical-align: middle;\n",
       "    }\n",
       "\n",
       "    .dataframe tbody tr th {\n",
       "        vertical-align: top;\n",
       "    }\n",
       "\n",
       "    .dataframe thead th {\n",
       "        text-align: right;\n",
       "    }\n",
       "</style>\n",
       "<table border=\"1\" class=\"dataframe\">\n",
       "  <thead>\n",
       "    <tr style=\"text-align: right;\">\n",
       "      <th></th>\n",
       "      <th>Importancia</th>\n",
       "      <th>imp_acum</th>\n",
       "    </tr>\n",
       "  </thead>\n",
       "  <tbody>\n",
       "    <tr>\n",
       "      <th>Elevation</th>\n",
       "      <td>0.350242</td>\n",
       "      <td>0.350242</td>\n",
       "    </tr>\n",
       "    <tr>\n",
       "      <th>Horizontal_Distance_To_Fire_Points</th>\n",
       "      <td>0.153900</td>\n",
       "      <td>0.504142</td>\n",
       "    </tr>\n",
       "    <tr>\n",
       "      <th>Horizontal_Distance_To_Roadways</th>\n",
       "      <td>0.124187</td>\n",
       "      <td>0.628329</td>\n",
       "    </tr>\n",
       "    <tr>\n",
       "      <th>Vertical_Distance_To_Hydrology</th>\n",
       "      <td>0.070369</td>\n",
       "      <td>0.698698</td>\n",
       "    </tr>\n",
       "    <tr>\n",
       "      <th>Horizontal_Distance_To_Hydrology</th>\n",
       "      <td>0.067988</td>\n",
       "      <td>0.766686</td>\n",
       "    </tr>\n",
       "    <tr>\n",
       "      <th>Aspect</th>\n",
       "      <td>0.054868</td>\n",
       "      <td>0.821553</td>\n",
       "    </tr>\n",
       "    <tr>\n",
       "      <th>Hillshade_9am</th>\n",
       "      <td>0.049818</td>\n",
       "      <td>0.871372</td>\n",
       "    </tr>\n",
       "    <tr>\n",
       "      <th>Hillshade_Noon</th>\n",
       "      <td>0.047782</td>\n",
       "      <td>0.919154</td>\n",
       "    </tr>\n",
       "    <tr>\n",
       "      <th>Hillshade_3pm</th>\n",
       "      <td>0.044413</td>\n",
       "      <td>0.963567</td>\n",
       "    </tr>\n",
       "    <tr>\n",
       "      <th>Slope</th>\n",
       "      <td>0.036433</td>\n",
       "      <td>1.000000</td>\n",
       "    </tr>\n",
       "    <tr>\n",
       "      <th>Wilderness_Area</th>\n",
       "      <td>0.000000</td>\n",
       "      <td>1.000000</td>\n",
       "    </tr>\n",
       "    <tr>\n",
       "      <th>Soil_Type</th>\n",
       "      <td>0.000000</td>\n",
       "      <td>1.000000</td>\n",
       "    </tr>\n",
       "  </tbody>\n",
       "</table>\n",
       "</div>"
      ],
      "text/plain": [
       "                                    Importancia  imp_acum\n",
       "Elevation                              0.350242  0.350242\n",
       "Horizontal_Distance_To_Fire_Points     0.153900  0.504142\n",
       "Horizontal_Distance_To_Roadways        0.124187  0.628329\n",
       "Vertical_Distance_To_Hydrology         0.070369  0.698698\n",
       "Horizontal_Distance_To_Hydrology       0.067988  0.766686\n",
       "Aspect                                 0.054868  0.821553\n",
       "Hillshade_9am                          0.049818  0.871372\n",
       "Hillshade_Noon                         0.047782  0.919154\n",
       "Hillshade_3pm                          0.044413  0.963567\n",
       "Slope                                  0.036433  1.000000\n",
       "Wilderness_Area                        0.000000  1.000000\n",
       "Soil_Type                              0.000000  1.000000"
      ]
     },
     "execution_count": 14,
     "metadata": {},
     "output_type": "execute_result"
    }
   ],
   "source": [
    "df_importancia[\"imp_acum\"] = df_importancia[\"Importancia\"].cumsum()\n",
    "df_importancia"
   ]
  },
  {
   "cell_type": "code",
   "execution_count": 15,
   "metadata": {},
   "outputs": [
    {
     "data": {
      "text/html": [
       "<div>\n",
       "<style scoped>\n",
       "    .dataframe tbody tr th:only-of-type {\n",
       "        vertical-align: middle;\n",
       "    }\n",
       "\n",
       "    .dataframe tbody tr th {\n",
       "        vertical-align: top;\n",
       "    }\n",
       "\n",
       "    .dataframe thead th {\n",
       "        text-align: right;\n",
       "    }\n",
       "</style>\n",
       "<table border=\"1\" class=\"dataframe\">\n",
       "  <thead>\n",
       "    <tr style=\"text-align: right;\">\n",
       "      <th></th>\n",
       "      <th>Importancia</th>\n",
       "      <th>imp_acum</th>\n",
       "    </tr>\n",
       "  </thead>\n",
       "  <tbody>\n",
       "    <tr>\n",
       "      <th>Elevation</th>\n",
       "      <td>0.350242</td>\n",
       "      <td>0.350242</td>\n",
       "    </tr>\n",
       "    <tr>\n",
       "      <th>Horizontal_Distance_To_Fire_Points</th>\n",
       "      <td>0.153900</td>\n",
       "      <td>0.504142</td>\n",
       "    </tr>\n",
       "    <tr>\n",
       "      <th>Horizontal_Distance_To_Roadways</th>\n",
       "      <td>0.124187</td>\n",
       "      <td>0.628329</td>\n",
       "    </tr>\n",
       "    <tr>\n",
       "      <th>Vertical_Distance_To_Hydrology</th>\n",
       "      <td>0.070369</td>\n",
       "      <td>0.698698</td>\n",
       "    </tr>\n",
       "    <tr>\n",
       "      <th>Horizontal_Distance_To_Hydrology</th>\n",
       "      <td>0.067988</td>\n",
       "      <td>0.766686</td>\n",
       "    </tr>\n",
       "    <tr>\n",
       "      <th>Aspect</th>\n",
       "      <td>0.054868</td>\n",
       "      <td>0.821553</td>\n",
       "    </tr>\n",
       "    <tr>\n",
       "      <th>Hillshade_9am</th>\n",
       "      <td>0.049818</td>\n",
       "      <td>0.871372</td>\n",
       "    </tr>\n",
       "    <tr>\n",
       "      <th>Hillshade_Noon</th>\n",
       "      <td>0.047782</td>\n",
       "      <td>0.919154</td>\n",
       "    </tr>\n",
       "  </tbody>\n",
       "</table>\n",
       "</div>"
      ],
      "text/plain": [
       "                                    Importancia  imp_acum\n",
       "Elevation                              0.350242  0.350242\n",
       "Horizontal_Distance_To_Fire_Points     0.153900  0.504142\n",
       "Horizontal_Distance_To_Roadways        0.124187  0.628329\n",
       "Vertical_Distance_To_Hydrology         0.070369  0.698698\n",
       "Horizontal_Distance_To_Hydrology       0.067988  0.766686\n",
       "Aspect                                 0.054868  0.821553\n",
       "Hillshade_9am                          0.049818  0.871372\n",
       "Hillshade_Noon                         0.047782  0.919154"
      ]
     },
     "execution_count": 15,
     "metadata": {},
     "output_type": "execute_result"
    }
   ],
   "source": [
    "df_importancia.loc[df_importancia['imp_acum']<=0.95]"
   ]
  },
  {
   "cell_type": "code",
   "execution_count": 16,
   "metadata": {},
   "outputs": [
    {
     "name": "stdout",
     "output_type": "stream",
     "text": [
      "Variables no importantes:  ['Hillshade_3pm', 'Slope', 'Wilderness_Area', 'Soil_Type']\n",
      "Total de variables tras la eliminación:  9\n"
     ]
    }
   ],
   "source": [
    "variables = df_importancia.loc[df_importancia['imp_acum']>0.95].index\n",
    "variables = list(variables)\n",
    "print('Variables no importantes: ',variables)\n",
    "print('Total de variables tras la eliminación: ',len(features) - len(variables) + 1)"
   ]
  },
  {
   "cell_type": "code",
   "execution_count": 19,
   "metadata": {},
   "outputs": [
    {
     "data": {
      "text/html": [
       "<div>\n",
       "<style scoped>\n",
       "    .dataframe tbody tr th:only-of-type {\n",
       "        vertical-align: middle;\n",
       "    }\n",
       "\n",
       "    .dataframe tbody tr th {\n",
       "        vertical-align: top;\n",
       "    }\n",
       "\n",
       "    .dataframe thead th {\n",
       "        text-align: right;\n",
       "    }\n",
       "</style>\n",
       "<table border=\"1\" class=\"dataframe\">\n",
       "  <thead>\n",
       "    <tr style=\"text-align: right;\">\n",
       "      <th></th>\n",
       "      <th>Elevation</th>\n",
       "      <th>Aspect</th>\n",
       "      <th>Horizontal_Distance_To_Hydrology</th>\n",
       "      <th>Vertical_Distance_To_Hydrology</th>\n",
       "      <th>Horizontal_Distance_To_Roadways</th>\n",
       "      <th>Hillshade_9am</th>\n",
       "      <th>Hillshade_Noon</th>\n",
       "      <th>Horizontal_Distance_To_Fire_Points</th>\n",
       "      <th>Cover_Type</th>\n",
       "    </tr>\n",
       "  </thead>\n",
       "  <tbody>\n",
       "    <tr>\n",
       "      <th>0</th>\n",
       "      <td>0.0</td>\n",
       "      <td>0.0</td>\n",
       "      <td>0.0</td>\n",
       "      <td>0.0</td>\n",
       "      <td>0.0</td>\n",
       "      <td>0.0</td>\n",
       "      <td>0.0</td>\n",
       "      <td>0.0</td>\n",
       "      <td>0</td>\n",
       "    </tr>\n",
       "    <tr>\n",
       "      <th>1</th>\n",
       "      <td>2596.0</td>\n",
       "      <td>51.0</td>\n",
       "      <td>258.0</td>\n",
       "      <td>0.0</td>\n",
       "      <td>510.0</td>\n",
       "      <td>221.0</td>\n",
       "      <td>232.0</td>\n",
       "      <td>6279.0</td>\n",
       "      <td>1</td>\n",
       "    </tr>\n",
       "    <tr>\n",
       "      <th>2</th>\n",
       "      <td>2590.0</td>\n",
       "      <td>56.0</td>\n",
       "      <td>212.0</td>\n",
       "      <td>-6.0</td>\n",
       "      <td>390.0</td>\n",
       "      <td>220.0</td>\n",
       "      <td>235.0</td>\n",
       "      <td>6225.0</td>\n",
       "      <td>1</td>\n",
       "    </tr>\n",
       "    <tr>\n",
       "      <th>3</th>\n",
       "      <td>2804.0</td>\n",
       "      <td>139.0</td>\n",
       "      <td>268.0</td>\n",
       "      <td>65.0</td>\n",
       "      <td>3180.0</td>\n",
       "      <td>234.0</td>\n",
       "      <td>238.0</td>\n",
       "      <td>6121.0</td>\n",
       "      <td>2</td>\n",
       "    </tr>\n",
       "    <tr>\n",
       "      <th>4</th>\n",
       "      <td>2785.0</td>\n",
       "      <td>155.0</td>\n",
       "      <td>242.0</td>\n",
       "      <td>118.0</td>\n",
       "      <td>3090.0</td>\n",
       "      <td>238.0</td>\n",
       "      <td>238.0</td>\n",
       "      <td>6211.0</td>\n",
       "      <td>2</td>\n",
       "    </tr>\n",
       "  </tbody>\n",
       "</table>\n",
       "</div>"
      ],
      "text/plain": [
       "   Elevation  Aspect  Horizontal_Distance_To_Hydrology  \\\n",
       "0        0.0     0.0                               0.0   \n",
       "1     2596.0    51.0                             258.0   \n",
       "2     2590.0    56.0                             212.0   \n",
       "3     2804.0   139.0                             268.0   \n",
       "4     2785.0   155.0                             242.0   \n",
       "\n",
       "   Vertical_Distance_To_Hydrology  Horizontal_Distance_To_Roadways  \\\n",
       "0                             0.0                              0.0   \n",
       "1                             0.0                            510.0   \n",
       "2                            -6.0                            390.0   \n",
       "3                            65.0                           3180.0   \n",
       "4                           118.0                           3090.0   \n",
       "\n",
       "   Hillshade_9am  Hillshade_Noon  Horizontal_Distance_To_Fire_Points  \\\n",
       "0            0.0             0.0                                 0.0   \n",
       "1          221.0           232.0                              6279.0   \n",
       "2          220.0           235.0                              6225.0   \n",
       "3          234.0           238.0                              6121.0   \n",
       "4          238.0           238.0                              6211.0   \n",
       "\n",
       "   Cover_Type  \n",
       "0           0  \n",
       "1           1  \n",
       "2           1  \n",
       "3           2  \n",
       "4           2  "
      ]
     },
     "execution_count": 19,
     "metadata": {},
     "output_type": "execute_result"
    }
   ],
   "source": [
    "df_f2 = df_f1.drop(labels=variables, axis='columns')\n",
    "df_f2.head()"
   ]
  },
  {
   "attachments": {},
   "cell_type": "markdown",
   "metadata": {},
   "source": [
    "Ejercicio 2\n",
    "\n",
    "Después de filtrar el dataset vamos a plantear un problema de clasificación para conseguir un clasificador de la cubierta forestal en basea a las variables cartográficas.:\n",
    "\n",
    "2.1 Genera una gráfica para visualizar la distribución de las variables del datset en conjunto. Analiza dicha gráfica y explica si hay una necesidad de normalizar los datos.\n",
    "\n",
    "2.2 Normaliza todas las variables del dataset a una escala estándar. Para ello puedes realizar estas transformaciones:\n",
    "\n",
    "LLevar las variables de entrada a una escala de 0 a 1\n",
    "Convertir la variable objetivo en valores numéricos entre 0 y el número de clases menos 1"
   ]
  },
  {
   "cell_type": "code",
   "execution_count": 21,
   "metadata": {},
   "outputs": [
    {
     "data": {
      "image/png": "[encoded data removed]",
      "text/plain": [
       "<Figure size 1200x800 with 1 Axes>"
      ]
     },
     "metadata": {},
     "output_type": "display_data"
    }
   ],
   "source": [
    "import matplotlib.pyplot as plt\n",
    "\n",
    "plt.figure(figsize=(12, 8))\n",
    "df_f2.boxplot()\n",
    "plt.xticks(rotation=45)\n",
    "plt.title('Distribución de variables')\n",
    "plt.xlabel('Variables')\n",
    "plt.ylabel('Valores')\n",
    "plt.show()\n"
   ]
  },
  {
   "cell_type": "code",
   "execution_count": 20,
   "metadata": {},
   "outputs": [
    {
     "data": {
      "text/html": [
       "<div>\n",
       "<style scoped>\n",
       "    .dataframe tbody tr th:only-of-type {\n",
       "        vertical-align: middle;\n",
       "    }\n",
       "\n",
       "    .dataframe tbody tr th {\n",
       "        vertical-align: top;\n",
       "    }\n",
       "\n",
       "    .dataframe thead th {\n",
       "        text-align: right;\n",
       "    }\n",
       "</style>\n",
       "<table border=\"1\" class=\"dataframe\">\n",
       "  <thead>\n",
       "    <tr style=\"text-align: right;\">\n",
       "      <th></th>\n",
       "      <th>Elevation</th>\n",
       "      <th>Aspect</th>\n",
       "      <th>Horizontal_Distance_To_Hydrology</th>\n",
       "      <th>Vertical_Distance_To_Hydrology</th>\n",
       "      <th>Horizontal_Distance_To_Roadways</th>\n",
       "      <th>Hillshade_9am</th>\n",
       "      <th>Hillshade_Noon</th>\n",
       "      <th>Horizontal_Distance_To_Fire_Points</th>\n",
       "      <th>Cover_Type</th>\n",
       "    </tr>\n",
       "  </thead>\n",
       "  <tbody>\n",
       "    <tr>\n",
       "      <th>0</th>\n",
       "      <td>0.000000</td>\n",
       "      <td>0.000000</td>\n",
       "      <td>0.000000</td>\n",
       "      <td>0.223514</td>\n",
       "      <td>0.000000</td>\n",
       "      <td>0.000000</td>\n",
       "      <td>0.000000</td>\n",
       "      <td>0.000000</td>\n",
       "      <td>0</td>\n",
       "    </tr>\n",
       "    <tr>\n",
       "      <th>1</th>\n",
       "      <td>0.672888</td>\n",
       "      <td>0.141667</td>\n",
       "      <td>0.184681</td>\n",
       "      <td>0.223514</td>\n",
       "      <td>0.071659</td>\n",
       "      <td>0.870079</td>\n",
       "      <td>0.913386</td>\n",
       "      <td>0.875366</td>\n",
       "      <td>1</td>\n",
       "    </tr>\n",
       "    <tr>\n",
       "      <th>2</th>\n",
       "      <td>0.671332</td>\n",
       "      <td>0.155556</td>\n",
       "      <td>0.151754</td>\n",
       "      <td>0.215762</td>\n",
       "      <td>0.054798</td>\n",
       "      <td>0.866142</td>\n",
       "      <td>0.925197</td>\n",
       "      <td>0.867838</td>\n",
       "      <td>1</td>\n",
       "    </tr>\n",
       "    <tr>\n",
       "      <th>3</th>\n",
       "      <td>0.726801</td>\n",
       "      <td>0.386111</td>\n",
       "      <td>0.191840</td>\n",
       "      <td>0.307494</td>\n",
       "      <td>0.446817</td>\n",
       "      <td>0.921260</td>\n",
       "      <td>0.937008</td>\n",
       "      <td>0.853339</td>\n",
       "      <td>2</td>\n",
       "    </tr>\n",
       "    <tr>\n",
       "      <th>4</th>\n",
       "      <td>0.721877</td>\n",
       "      <td>0.430556</td>\n",
       "      <td>0.173228</td>\n",
       "      <td>0.375969</td>\n",
       "      <td>0.434172</td>\n",
       "      <td>0.937008</td>\n",
       "      <td>0.937008</td>\n",
       "      <td>0.865886</td>\n",
       "      <td>2</td>\n",
       "    </tr>\n",
       "  </tbody>\n",
       "</table>\n",
       "</div>"
      ],
      "text/plain": [
       "   Elevation    Aspect  Horizontal_Distance_To_Hydrology  \\\n",
       "0   0.000000  0.000000                          0.000000   \n",
       "1   0.672888  0.141667                          0.184681   \n",
       "2   0.671332  0.155556                          0.151754   \n",
       "3   0.726801  0.386111                          0.191840   \n",
       "4   0.721877  0.430556                          0.173228   \n",
       "\n",
       "   Vertical_Distance_To_Hydrology  Horizontal_Distance_To_Roadways  \\\n",
       "0                        0.223514                         0.000000   \n",
       "1                        0.223514                         0.071659   \n",
       "2                        0.215762                         0.054798   \n",
       "3                        0.307494                         0.446817   \n",
       "4                        0.375969                         0.434172   \n",
       "\n",
       "   Hillshade_9am  Hillshade_Noon  Horizontal_Distance_To_Fire_Points  \\\n",
       "0       0.000000        0.000000                            0.000000   \n",
       "1       0.870079        0.913386                            0.875366   \n",
       "2       0.866142        0.925197                            0.867838   \n",
       "3       0.921260        0.937008                            0.853339   \n",
       "4       0.937008        0.937008                            0.865886   \n",
       "\n",
       "   Cover_Type  \n",
       "0           0  \n",
       "1           1  \n",
       "2           1  \n",
       "3           2  \n",
       "4           2  "
      ]
     },
     "execution_count": 20,
     "metadata": {},
     "output_type": "execute_result"
    }
   ],
   "source": [
    "scaler = MinMaxScaler()\n",
    "df_selected_scaled = pd.DataFrame(scaler.fit_transform(df_f2),\n",
    "                                   columns=df_f2.columns)\n",
    "\n",
    "df_selected_scaled['Cover_Type'] = pd.factorize(df_f2['Cover_Type'])[0]\n",
    "\n",
    "df_selected_scaled.head()\n",
    "\n",
    "\n",
    "\n",
    "\n"
   ]
  },
  {
   "attachments": {},
   "cell_type": "markdown",
   "metadata": {},
   "source": [
    "Ejercicio 3\n",
    "\n",
    "Después de estandarizar los datos procedemos a crear el primer clasificador:\n",
    "\n",
    "3.1 Divide el datset en training y en test:\n",
    "\n",
    "Guarda el 20% de los datos para testeo.\n",
    "random_state=100\n",
    "3.2 Entrena un modelo de regresión logística:\n",
    "\n",
    "Número máximo de iteraciones igual a 1000\n",
    "random_state=100\n",
    "3.3 Calcula diferentes métricas para evaluar este modelo y analiza su rendimiendo.\n",
    "\n",
    "Accuracy\n",
    "F1-score (average='weighted')\n",
    "Classification report (zero_division=0)\n",
    "Confusion matrix"
   ]
  },
  {
   "cell_type": "code",
   "execution_count": 22,
   "metadata": {},
   "outputs": [],
   "source": [
    "from sklearn.model_selection import train_test_split\n",
    "\n",
    "X = df_selected_scaled.drop('Cover_Type', axis=1)\n",
    "y = df_selected_scaled['Cover_Type']\n",
    "X_train, X_test, y_train, y_test = train_test_split(X, y, test_size=0.2, random_state=100)\n"
   ]
  },
  {
   "cell_type": "code",
   "execution_count": 23,
   "metadata": {},
   "outputs": [
    {
     "name": "stderr",
     "output_type": "stream",
     "text": [
      "C:\\Users\\Claudia\\AppData\\Local\\Packages\\PythonSoftwareFoundation.Python.3.10_qbz5n2kfra8p0\\LocalCache\\local-packages\\Python310\\site-packages\\sklearn\\linear_model\\_logistic.py:458: ConvergenceWarning: lbfgs failed to converge (status=1):\n",
      "STOP: TOTAL NO. of ITERATIONS REACHED LIMIT.\n",
      "\n",
      "Increase the number of iterations (max_iter) or scale the data as shown in:\n",
      "    https://scikit-learn.org/stable/modules/preprocessing.html\n",
      "Please also refer to the documentation for alternative solver options:\n",
      "    https://scikit-learn.org/stable/modules/linear_model.html#logistic-regression\n",
      "  n_iter_i = _check_optimize_result(\n"
     ]
    },
    {
     "data": {
      "text/html": [
       "<style>#sk-container-id-2 {color: black;background-color: white;}#sk-container-id-2 pre{padding: 0;}#sk-container-id-2 div.sk-toggleable {background-color: white;}#sk-container-id-2 label.sk-toggleable__label {cursor: pointer;display: block;width: 100%;margin-bottom: 0;padding: 0.3em;box-sizing: border-box;text-align: center;}#sk-container-id-2 label.sk-toggleable__label-arrow:before {content: \"▸\";float: left;margin-right: 0.25em;color: #696969;}#sk-container-id-2 label.sk-toggleable__label-arrow:hover:before {color: black;}#sk-container-id-2 div.sk-estimator:hover label.sk-toggleable__label-arrow:before {color: black;}#sk-container-id-2 div.sk-toggleable__content {max-height: 0;max-width: 0;overflow: hidden;text-align: left;background-color: #f0f8ff;}#sk-container-id-2 div.sk-toggleable__content pre {margin: 0.2em;color: black;border-radius: 0.25em;background-color: #f0f8ff;}#sk-container-id-2 input.sk-toggleable__control:checked~div.sk-toggleable__content {max-height: 200px;max-width: 100%;overflow: auto;}#sk-container-id-2 input.sk-toggleable__control:checked~label.sk-toggleable__label-arrow:before {content: \"▾\";}#sk-container-id-2 div.sk-estimator input.sk-toggleable__control:checked~label.sk-toggleable__label {background-color: #d4ebff;}#sk-container-id-2 div.sk-label input.sk-toggleable__control:checked~label.sk-toggleable__label {background-color: #d4ebff;}#sk-container-id-2 input.sk-hidden--visually {border: 0;clip: rect(1px 1px 1px 1px);clip: rect(1px, 1px, 1px, 1px);height: 1px;margin: -1px;overflow: hidden;padding: 0;position: absolute;width: 1px;}#sk-container-id-2 div.sk-estimator {font-family: monospace;background-color: #f0f8ff;border: 1px dotted black;border-radius: 0.25em;box-sizing: border-box;margin-bottom: 0.5em;}#sk-container-id-2 div.sk-estimator:hover {background-color: #d4ebff;}#sk-container-id-2 div.sk-parallel-item::after {content: \"\";width: 100%;border-bottom: 1px solid gray;flex-grow: 1;}#sk-container-id-2 div.sk-label:hover label.sk-toggleable__label {background-color: #d4ebff;}#sk-container-id-2 div.sk-serial::before {content: \"\";position: absolute;border-left: 1px solid gray;box-sizing: border-box;top: 0;bottom: 0;left: 50%;z-index: 0;}#sk-container-id-2 div.sk-serial {display: flex;flex-direction: column;align-items: center;background-color: white;padding-right: 0.2em;padding-left: 0.2em;position: relative;}#sk-container-id-2 div.sk-item {position: relative;z-index: 1;}#sk-container-id-2 div.sk-parallel {display: flex;align-items: stretch;justify-content: center;background-color: white;position: relative;}#sk-container-id-2 div.sk-item::before, #sk-container-id-2 div.sk-parallel-item::before {content: \"\";position: absolute;border-left: 1px solid gray;box-sizing: border-box;top: 0;bottom: 0;left: 50%;z-index: -1;}#sk-container-id-2 div.sk-parallel-item {display: flex;flex-direction: column;z-index: 1;position: relative;background-color: white;}#sk-container-id-2 div.sk-parallel-item:first-child::after {align-self: flex-end;width: 50%;}#sk-container-id-2 div.sk-parallel-item:last-child::after {align-self: flex-start;width: 50%;}#sk-container-id-2 div.sk-parallel-item:only-child::after {width: 0;}#sk-container-id-2 div.sk-dashed-wrapped {border: 1px dashed gray;margin: 0 0.4em 0.5em 0.4em;box-sizing: border-box;padding-bottom: 0.4em;background-color: white;}#sk-container-id-2 div.sk-label label {font-family: monospace;font-weight: bold;display: inline-block;line-height: 1.2em;}#sk-container-id-2 div.sk-label-container {text-align: center;}#sk-container-id-2 div.sk-container {/* jupyter's `normalize.less` sets `[hidden] { display: none; }` but bootstrap.min.css set `[hidden] { display: none !important; }` so we also need the `!important` here to be able to override the default hidden behavior on the sphinx rendered scikit-learn.org. See: https://github.com/scikit-learn/scikit-learn/issues/21755 */display: inline-block !important;position: relative;}#sk-container-id-2 div.sk-text-repr-fallback {display: none;}</style><div id=\"sk-container-id-2\" class=\"sk-top-container\"><div class=\"sk-text-repr-fallback\"><pre>LogisticRegression(max_iter=1000, random_state=100)</pre><b>In a Jupyter environment, please rerun this cell to show the HTML representation or trust the notebook. <br />On GitHub, the HTML representation is unable to render, please try loading this page with nbviewer.org.</b></div><div class=\"sk-container\" hidden><div class=\"sk-item\"><div class=\"sk-estimator sk-toggleable\"><input class=\"sk-toggleable__control sk-hidden--visually\" id=\"sk-estimator-id-2\" type=\"checkbox\" checked><label for=\"sk-estimator-id-2\" class=\"sk-toggleable__label sk-toggleable__label-arrow\">LogisticRegression</label><div class=\"sk-toggleable__content\"><pre>LogisticRegression(max_iter=1000, random_state=100)</pre></div></div></div></div></div>"
      ],
      "text/plain": [
       "LogisticRegression(max_iter=1000, random_state=100)"
      ]
     },
     "execution_count": 23,
     "metadata": {},
     "output_type": "execute_result"
    }
   ],
   "source": [
    "from sklearn.linear_model import LogisticRegression\n",
    "\n",
    "logreg = LogisticRegression(max_iter=1000, random_state=100)\n",
    "logreg.fit(X_train, y_train)\n"
   ]
  },
  {
   "cell_type": "code",
   "execution_count": 24,
   "metadata": {},
   "outputs": [
    {
     "name": "stdout",
     "output_type": "stream",
     "text": [
      "Accuracy: 0.6769360515649337\n",
      "F1-score (average='weighted'): 0.6490305371739692\n",
      "Classification Report:\n",
      "               precision    recall  f1-score   support\n",
      "\n",
      "           0       0.00      0.00      0.00         1\n",
      "           1       0.00      0.00      0.00       452\n",
      "           2       0.00      0.00      0.00       610\n",
      "           3       0.00      0.00      0.00       457\n",
      "           4       0.00      0.00      0.00       443\n",
      "           5       0.00      0.00      0.00       444\n",
      "           6       0.00      0.00      0.00       405\n",
      "           7       0.00      0.00      0.00       461\n",
      "           8       0.71      0.79      0.75     55836\n",
      "           9       0.66      0.70      0.68     42096\n",
      "          10       0.00      0.00      0.00      1407\n",
      "          11       0.51      0.12      0.20      3719\n",
      "          12       0.56      0.67      0.61      6737\n",
      "          13       0.23      0.04      0.07      3005\n",
      "          14       0.00      0.00      0.00       130\n",
      "\n",
      "    accuracy                           0.68    116203\n",
      "   macro avg       0.18      0.16      0.15    116203\n",
      "weighted avg       0.64      0.68      0.65    116203\n",
      "\n",
      "Confusion Matrix:\n",
      " [[    0     0     0     0     0     0     0     0     0     0     0     0\n",
      "      0     1     0]\n",
      " [    0     0     0     0     0     0     0     0   451     1     0     0\n",
      "      0     0     0]\n",
      " [    0     0     0     0     0     0     0     0   515    90     0     0\n",
      "      5     0     0]\n",
      " [    0     0     0     0     0     0     0     0   143   305     0     9\n",
      "      0     0     0]\n",
      " [    0     0     0     0     0     0     0     0    11   376     0    56\n",
      "      0     0     0]\n",
      " [    0     0     0     0     0     0     0     0   135     0     0     0\n",
      "    287    22     0]\n",
      " [    0     0     0     0     0     0     0     0   147     0     0     0\n",
      "    247    11     0]\n",
      " [    0     0     0     0     0     0     0     0     1     0     0     0\n",
      "    457     3     0]\n",
      " [    0     0     0     0     0     0     0     0 44165 10985     0     2\n",
      "    637    47     0]\n",
      " [    0     0     0     0     0     0     0     0 12335 29380     0   381\n",
      "      0     0     0]\n",
      " [    0     0     0     0     0     0     0     0  1402     5     0     0\n",
      "      0     0     0]\n",
      " [    0     0     0     0     0     0     0     0    65  3192     0   462\n",
      "      0     0     0]\n",
      " [    0     0     0     0     0     0     0     0  1889     0     0     0\n",
      "   4534   314     0]\n",
      " [    0     0     0     0     0     0     0     0  1086     0     0     0\n",
      "   1798   121     0]\n",
      " [    0     0     0     0     0     0     0     0     1     0     0     0\n",
      "    129     0     0]]\n"
     ]
    }
   ],
   "source": [
    "from sklearn.metrics import accuracy_score, f1_score, classification_report, confusion_matrix\n",
    "\n",
    "y_pred = logreg.predict(X_test)\n",
    "\n",
    "accuracy = accuracy_score(y_test, y_pred)\n",
    "f1 = f1_score(y_test, y_pred, average='weighted')\n",
    "classification = classification_report(y_test, y_pred, zero_division=0)\n",
    "confusion = confusion_matrix(y_test, y_pred)\n",
    "\n",
    "print(\"Accuracy:\", accuracy)\n",
    "print(\"F1-score (average='weighted'):\", f1)\n",
    "print(\"Classification Report:\\n\", classification)\n",
    "print(\"Confusion Matrix:\\n\", confusion)\n"
   ]
  },
  {
   "attachments": {},
   "cell_type": "markdown",
   "metadata": {},
   "source": [
    "Ejercicio 4\n",
    "\n",
    "Ahora probamos la creación de otros modelo basados en árboles de decisión:\n",
    "\n",
    "4.1 Entrena un modelo tipo Decision Tree Classifire y calcula las métricas correspondientes para analizar su rendimiento en comparación con el modelo anterior:\n",
    "\n",
    "random_state=100\n",
    "Accuracy\n",
    "F1-score (average='weighted')\n",
    "Classification report (zero_division=0)\n",
    "4.2 Saca la curva de complejidad del modelo Decision Tree (Model Complexity Curve) y crea un nuevo clasificador con el valor óptimo de la profundidad del árbol según esta gráfica. Después saca las métricas correspondiente y analiza el rendimiento del modelo en comparación de los anteriores.\n",
    "\n",
    "random_state=100\n",
    "rango de profundidades: de 2 a 30 inclusive\n",
    "\n",
    "4.3 Saca la gráfica de el Learning Curve para estos modelos, definiendo y aplicando una función que toma el valor del hiperparámetro como su entrada y dibuja la evolución del rendimiento del modelo para el conjunto de training y de test. Explica si este último modelo tiene preferencia o no, comparando con modelos anteriores.\n",
    "\n",
    "random_state=100\n",
    "(Sugerencia: No incluya más de 10 puntos en el eje horizontal y empieza la gráfica con un mínimo de 1000 muestras para el modelo)"
   ]
  },
  {
   "cell_type": "code",
   "execution_count": 25,
   "metadata": {},
   "outputs": [
    {
     "name": "stdout",
     "output_type": "stream",
     "text": [
      "Accuracy Decision Tree: 0.8804764076658951\n",
      "F1-score Decision Tree (average='weighted'): 0.8819443920726127\n",
      "Classification Report Decision Tree:\n",
      "               precision    recall  f1-score   support\n",
      "\n",
      "           0       0.00      0.00      0.00         1\n",
      "           1       0.21      0.21      0.21       452\n",
      "           2       0.21      0.25      0.23       610\n",
      "           3       0.05      0.07      0.06       457\n",
      "           4       0.10      0.11      0.10       443\n",
      "           5       0.06      0.07      0.06       444\n",
      "           6       0.12      0.14      0.13       405\n",
      "           7       0.65      0.66      0.65       461\n",
      "           8       0.93      0.92      0.93     55836\n",
      "           9       0.91      0.91      0.91     42096\n",
      "          10       0.58      0.57      0.58      1407\n",
      "          11       0.83      0.81      0.82      3719\n",
      "          12       0.85      0.83      0.84      6737\n",
      "          13       0.72      0.71      0.72      3005\n",
      "          14       0.23      0.23      0.23       130\n",
      "\n",
      "    accuracy                           0.88    116203\n",
      "   macro avg       0.43      0.43      0.43    116203\n",
      "weighted avg       0.88      0.88      0.88    116203\n",
      "\n"
     ]
    }
   ],
   "source": [
    "from sklearn.tree import DecisionTreeClassifier\n",
    "\n",
    "dt = DecisionTreeClassifier(random_state=100)\n",
    "dt.fit(X_train, y_train)\n",
    "\n",
    "y_pred_dt = dt.predict(X_test)\n",
    "\n",
    "accuracy_dt = accuracy_score(y_test, y_pred_dt)\n",
    "f1_dt = f1_score(y_test, y_pred_dt, average='weighted')\n",
    "classification_dt = classification_report(y_test, y_pred_dt, zero_division=0)\n",
    "\n",
    "print(\"Accuracy Decision Tree:\", accuracy_dt)\n",
    "print(\"F1-score Decision Tree (average='weighted'):\", f1_dt)\n",
    "print(\"Classification Report Decision Tree:\\n\", classification_dt)\n"
   ]
  },
  {
   "cell_type": "code",
   "execution_count": 26,
   "metadata": {},
   "outputs": [
    {
     "data": {
      "image/png": "[encoded data removed]",
      "text/plain": [
       "<Figure size 1000x600 with 1 Axes>"
      ]
     },
     "metadata": {},
     "output_type": "display_data"
    },
    {
     "name": "stdout",
     "output_type": "stream",
     "text": [
      "Profundidad óptima del árbol: 27\n"
     ]
    }
   ],
   "source": [
    "from sklearn.model_selection import validation_curve\n",
    "\n",
    "depth_range = range(2, 31)\n",
    "\n",
    "train_scores, test_scores = validation_curve(\n",
    "    DecisionTreeClassifier(random_state=100), X_train, y_train,\n",
    "    param_name=\"max_depth\", param_range=depth_range, cv=5,\n",
    "    scoring=\"accuracy\", n_jobs=-1)\n",
    "\n",
    "train_scores_mean = np.mean(train_scores, axis=1)\n",
    "train_scores_std = np.std(train_scores, axis=1)\n",
    "test_scores_mean = np.mean(test_scores, axis=1)\n",
    "test_scores_std = np.std(test_scores, axis=1)\n",
    "# grafico\n",
    "plt.figure(figsize=(10, 6))\n",
    "plt.title(\"Curva de Complejidad del Modelo Decision Tree\")\n",
    "plt.xlabel(\"Profundidad del Árbol\")\n",
    "plt.ylabel(\"Score\")\n",
    "plt.ylim(0.7, 1.0)\n",
    "plt.xticks(depth_range)\n",
    "plt.plot(depth_range, train_scores_mean, label=\"Score de Entrenamiento\", color=\"b\")\n",
    "plt.plot(depth_range, test_scores_mean, label=\"Score de Test\", color=\"g\")\n",
    "plt.fill_between(depth_range, train_scores_mean - train_scores_std,\n",
    "                 train_scores_mean + train_scores_std, alpha=0.2, color=\"b\")\n",
    "plt.fill_between(depth_range, test_scores_mean - test_scores_std,\n",
    "                 test_scores_mean + test_scores_std, alpha=0.2, color=\"g\")\n",
    "plt.legend(loc=\"best\")\n",
    "plt.show()\n",
    "\n",
    "# Obtener la profundidad óptima\n",
    "optimal_depth = depth_range[np.argmax(test_scores_mean)]\n",
    "print(\"Profundidad óptima del árbol:\", optimal_depth)\n"
   ]
  },
  {
   "cell_type": "code",
   "execution_count": 27,
   "metadata": {},
   "outputs": [
    {
     "data": {
      "image/png": "[encoded data removed]",
      "text/plain": [
       "<Figure size 1000x600 with 1 Axes>"
      ]
     },
     "metadata": {},
     "output_type": "display_data"
    }
   ],
   "source": [
    "from sklearn.model_selection import learning_curve\n",
    "\n",
    "def plot_learning_curve(estimator, title, X, y, ylim=None, cv=None, n_jobs=None, train_sizes=np.linspace(0.1, 1.0, 10)):\n",
    "    plt.figure(figsize=(10, 6))\n",
    "    plt.title(title)\n",
    "    if ylim is not None:\n",
    "        plt.ylim(*ylim)\n",
    "    plt.xlabel(\"Número de muestras de entrenamiento\")\n",
    "    plt.ylabel(\"Score\")\n",
    "    train_sizes, train_scores, test_scores = learning_curve(estimator, X, y, cv=cv, n_jobs=n_jobs, train_sizes=train_sizes, scoring='accuracy')\n",
    "    train_scores_mean = np.mean(train_scores, axis=1)\n",
    "    train_scores_std = np.std(train_scores, axis=1)\n",
    "    test_scores_mean = np.mean(test_scores, axis=1)\n",
    "    test_scores_std = np.std(test_scores, axis=1)\n",
    "    plt.grid()\n",
    "\n",
    "    plt.fill_between(train_sizes, train_scores_mean - train_scores_std, train_scores_mean + train_scores_std, alpha=0.1)\n",
    "    plt.fill_between(train_sizes, test_scores_mean - test_scores_std, test_scores_mean + test_scores_std, alpha=0.1)\n",
    "    plt.plot(train_sizes, train_scores_mean, 'o-', color=\"b\", label=\"Score de entrenamiento\")\n",
    "    plt.plot(train_sizes, test_scores_mean, 'o-', color=\"g\", label=\"Score de test\")\n",
    "\n",
    "    plt.legend(loc=\"best\")\n",
    "    return plt\n",
    "\n",
    "# Crear el clasificador con la profundidad óptima\n",
    "optimal_dt = DecisionTreeClassifier(max_depth=optimal_depth, random_state=100)\n",
    "\n",
    "# Dibujar la Learning Curve\n",
    "plot_learning_curve(optimal_dt, \"Learning Curve para Decision Tree\", X_train, y_train, ylim=(0.5, 1.05), cv=5, n_jobs=-1)\n",
    "\n",
    "plt.show()"
   ]
  },
  {
   "attachments": {},
   "cell_type": "markdown",
   "metadata": {},
   "source": [
    "Ejercicio 5\n",
    "\n",
    "Ahora probamos la creación de otros modelo basados en bosques aleatorios:\n",
    "\n",
    "5.1 Entrena un modelo tipo Random Forest Classifire y calcula las métricas correspondientes para analizar su rendimiento en comparación con los modelos anteriores:\n",
    "\n",
    "random_state=100\n",
    "\n",
    "5.2 Consulta la profundidad de todos los árboles del bosque creado en el paso anterior y calcula la mediana de este parámetro.\n",
    "\n",
    "5.3 Saca las curvas de complejidad del modelo Random Forest (Model Complexity Curve) y crea un nuevo clasificador con los valores óptimos analizados dentro de los rangos indicados para cada hiperparámeto. Después crea un modelo con estos parámetros \"óptimos\" y saca las métricas correspondientes para analizar el rendimiento del modelo en comparación con los anteriores.\n",
    "\n",
    "random_state=100\n",
    "define un rango con funciones de numpy para considerar estos números de árboles: [200, 250, 300, 350, 400]\n",
    "rango de profundidades: de 20 a 40 inclusive en pasos de 2 en 2.\n",
    "considera estas opciones para max_features : [\"auto\", \"log2\", None]\n",
    "Accuracy\n",
    "F1-score (average='weighted')\n",
    "Classification report (zero_division=0)\n",
    "OOB (out-of-bag score)\n",
    "\n",
    "5.4 Saca la gráfica del Learning Curve para estos modelos, definiendo y aplicando una función que toma el valor de los hiperparámetros analizados como su entrada y dibuja la evolución del rendimiento del modelo para el conjunto de training y de test. Explica si este último modelo tiene preferencia o no, comparando con modelos anteriores.\n",
    "\n",
    "random_state=100\n",
    "(Sugerencia: No incluya más de 10 puntos en el eje horizontal y empieza la gráfica con un mínimo de 1000 muestras para el modelo)"
   ]
  },
  {
   "cell_type": "code",
   "execution_count": 28,
   "metadata": {},
   "outputs": [
    {
     "name": "stdout",
     "output_type": "stream",
     "text": [
      "Accuracy Random Forest: 0.9291670610913659\n",
      "F1-score Random Forest (average='weighted'): 0.9199014696842794\n",
      "Classification Report Random Forest:\n",
      "               precision    recall  f1-score   support\n",
      "\n",
      "           0       0.00      0.00      0.00         1\n",
      "           1       0.32      0.08      0.13       452\n",
      "           2       0.93      0.24      0.39       610\n",
      "           3       0.81      0.05      0.09       457\n",
      "           4       0.14      0.01      0.02       443\n",
      "           5       0.00      0.00      0.00       444\n",
      "           6       0.05      0.00      0.01       405\n",
      "           7       0.71      0.81      0.76       461\n",
      "           8       0.94      0.97      0.96     55836\n",
      "           9       0.95      0.95      0.95     42096\n",
      "          10       0.73      0.61      0.66      1407\n",
      "          11       0.88      0.91      0.90      3719\n",
      "          12       0.88      0.95      0.91      6737\n",
      "          13       0.83      0.85      0.84      3005\n",
      "          14       0.25      0.04      0.07       130\n",
      "\n",
      "    accuracy                           0.93    116203\n",
      "   macro avg       0.56      0.43      0.45    116203\n",
      "weighted avg       0.92      0.93      0.92    116203\n",
      "\n"
     ]
    }
   ],
   "source": [
    "from sklearn.ensemble import RandomForestClassifier\n",
    "\n",
    "# Entrenamiento del modelo Random Forest Classifier\n",
    "rf = RandomForestClassifier(random_state=100)\n",
    "rf.fit(X_train, y_train)\n",
    "\n",
    "# Predicciones en el conjunto de test\n",
    "y_pred_rf = rf.predict(X_test)\n",
    "\n",
    "# Cálculo de métricas de evaluación\n",
    "accuracy_rf = accuracy_score(y_test, y_pred_rf)\n",
    "f1_rf = f1_score(y_test, y_pred_rf, average='weighted')\n",
    "classification_rf = classification_report(y_test, y_pred_rf, zero_division=0)\n",
    "\n",
    "# Mostrar las métricas\n",
    "print(\"Accuracy Random Forest:\", accuracy_rf)\n",
    "print(\"F1-score Random Forest (average='weighted'):\", f1_rf)\n",
    "print(\"Classification Report Random Forest:\\n\", classification_rf)\n"
   ]
  },
  {
   "cell_type": "code",
   "execution_count": 29,
   "metadata": {},
   "outputs": [
    {
     "name": "stdout",
     "output_type": "stream",
     "text": [
      "Mediana de la profundidad de los árboles del bosque: 40.0\n"
     ]
    }
   ],
   "source": [
    "# Obtener la profundidad de los árboles del bosque\n",
    "depths = [estimator.get_depth() for estimator in rf.estimators_]\n",
    "median_depth = np.median(depths)\n",
    "\n",
    "print(\"Mediana de la profundidad de los árboles del bosque:\", median_depth)\n"
   ]
  },
  {
   "cell_type": "code",
   "execution_count": 33,
   "metadata": {},
   "outputs": [],
   "source": [
    "from sklearn.model_selection import GridSearchCV\n",
    "import numpy as np\n",
    "\n",
    "# Definir rangos de hiperparámetros\n",
    "param_grid = {\n",
    "    'n_estimators': [200, 250, 300, 350, 400],\n",
    "    'max_depth': np.arange(20, 41, 2),\n",
    "    'max_features': [\"auto\", \"log2\", None]\n",
    "}"
   ]
  },
  {
   "cell_type": "code",
   "execution_count": 34,
   "metadata": {},
   "outputs": [],
   "source": [
    "# Realizar GridSearchCV para encontrar los hiperparámetros óptimos\n",
    "grid_search = GridSearchCV(RandomForestClassifier(random_state=100), param_grid, cv=5, scoring='accuracy', n_jobs=-1)\n",
    "grid_search.fit(X_train, y_train)"
   ]
  },
  {
   "cell_type": "code",
   "execution_count": null,
   "metadata": {},
   "outputs": [],
   "source": [
    "# Obtener los mejores hiperparámetros\n",
    "best_params = grid_search.best_params_\n",
    "optimal_rf = RandomForestClassifier(random_state=100, **best_params)"
   ]
  },
  {
   "cell_type": "code",
   "execution_count": null,
   "metadata": {},
   "outputs": [],
   "source": [
    "# Entrenar el modelo con los hiperparámetros óptimos\n",
    "optimal_rf.fit(X_train, y_train)"
   ]
  },
  {
   "cell_type": "code",
   "execution_count": null,
   "metadata": {},
   "outputs": [],
   "source": [
    "# Predicciones en el conjunto de test\n",
    "y_pred_optimal = optimal_rf.predict(X_test)"
   ]
  },
  {
   "cell_type": "code",
   "execution_count": null,
   "metadata": {},
   "outputs": [],
   "source": [
    "# Cálculo de métricas de evaluación\n",
    "accuracy_optimal = accuracy_score(y_test, y_pred_optimal)\n",
    "f1_optimal = f1_score(y_test, y_pred_optimal, average='weighted')\n",
    "classification_optimal = classification_report(y_test, y_pred_optimal, zero_division=0)\n",
    "oob_score_optimal = optimal_rf.oob_score_"
   ]
  },
  {
   "cell_type": "code",
   "execution_count": null,
   "metadata": {},
   "outputs": [],
   "source": [
    "# Mostrar las métricas\n",
    "print(\"Accuracy Random Forest (Optimal):\", accuracy_optimal)\n",
    "print(\"F1-score Random Forest (Optimal, average='weighted'):\", f1_optimal)\n",
    "print(\"Classification Report Random Forest (Optimal):\\n\", classification_optimal)\n",
    "print(\"OOB Score Random Forest (Optimal):\", oob_score_optimal)"
   ]
  },
  {
   "attachments": {},
   "cell_type": "markdown",
   "metadata": {},
   "source": [
    "Ejercicio 6\n",
    "\n",
    "Ahora probamos la creación de otros modelo basados en Gradient Boosting:\n",
    "\n",
    "18.6.1 Entrena un modelo tipo XGBoost Classifire y calcula las métricas correspondientes para analizar su rendimiento en comparación con los modelos anteriores:\n",
    "\n",
    "random_state=100\n",
    "\n",
    "6.2 Consulta el número y la profundidad máxima de los árboles del bosque creado en el paso anterior.\n",
    "\n",
    "6.3 Saca las curvas de complejidad del modelo XGBClassifier (Model Complexity Curve) y crea un nuevo clasificador con los valores óptimos analizados dentro de los rangos indicados para cada hiperparámeto. Después crea un modelo con estos parámetros \"óptimos\" y saca las métricas correspondientes para analizar el rendimiento del modelo en comparación con los anteriores.\n",
    "\n",
    "random_state=100\n",
    "define un rango con funciones de numpy para considerar estos números de árboles: [100, 200, 300, 400, 500]\n",
    "rango de profundidades: de 6 a 20 inclusive en pasos de 2 en 2.\n",
    "valores a considerar para el learning_rate: [0.01, 0.1, 0.3, 0.5]\n",
    "Accuracy\n",
    "F1-score (average='weighted')\n",
    "Classification report (zero_division=0)\n",
    "\n",
    "\n",
    "6.4 Saca la gráfica del Learning Curve para estos modelos, definiendo y aplicando una función que toma el valor de los hiperparámetros analizados como su entrada y dibuja la evolución del rendimiento del modelo para el conjunto de training y de test. Explica si este último modelo tiene preferencia o no, comparando con modelos anteriores.\n",
    "\n",
    "random_state=100\n",
    "(Sugerencia: No incluya más de 10 puntos en el eje horizontal y empieza la gráfica con un mínimo de 1000 muestras para el modelo)"
   ]
  },
  {
   "cell_type": "code",
   "execution_count": null,
   "metadata": {},
   "outputs": [],
   "source": [
    "import xgboost as xgb \n",
    "\n",
    "# Entrenamiento del modelo XGBoost Classifier\n",
    "xgb_model = xgb.XGBClassifier(random_state=100)\n",
    "xgb_model.fit(X_train, y_train)\n"
   ]
  },
  {
   "cell_type": "code",
   "execution_count": null,
   "metadata": {},
   "outputs": [],
   "source": [
    "# Predicciones en el conjunto de test\n",
    "y_pred_xgb = xgb_model.predict(X_test)"
   ]
  },
  {
   "cell_type": "code",
   "execution_count": null,
   "metadata": {},
   "outputs": [],
   "source": [
    "# Cálculo de métricas de evaluación\n",
    "accuracy_xgb = accuracy_score(y_test, y_pred_xgb)\n",
    "f1_xgb = f1_score(y_test, y_pred_xgb, average='weighted')\n",
    "classification_xgb = classification_report(y_test, y_pred_xgb, zero_division=0)"
   ]
  },
  {
   "cell_type": "code",
   "execution_count": null,
   "metadata": {},
   "outputs": [],
   "source": [
    "# Mostrar las métricas\n",
    "print(\"Accuracy XGBoost Classifier:\", accuracy_xgb)\n",
    "print(\"F1-score XGBoost Classifier (average='weighted'):\", f1_xgb)\n",
    "print(\"Classification Report XGBoost Classifier:\\n\", classification_xgb)"
   ]
  },
  {
   "cell_type": "code",
   "execution_count": null,
   "metadata": {},
   "outputs": [],
   "source": [
    "# Obtener el número de árboles y la profundidad máxima del modelo XGBoost\n",
    "num_trees = xgb_model.get_booster().best_iteration\n",
    "max_depth_xgb = xgb_model.get_booster().max_depth\n",
    "\n",
    "print(\"Número de árboles del modelo XGBoost:\", num_trees)\n",
    "print(\"Profundidad máxima de los árboles del modelo XGBoost:\", max_depth_xgb)\n"
   ]
  },
  {
   "cell_type": "code",
   "execution_count": null,
   "metadata": {},
   "outputs": [],
   "source": [
    "from sklearn.model_selection import GridSearchCV\n",
    "import numpy as np\n",
    "import matplotlib.pyplot as plt\n",
    "\n",
    "# Definir rangos de hiperparámetros\n",
    "param_grid_xgb = {\n",
    "    'n_estimators': [100, 200, 300, 400, 500],\n",
    "    'max_depth': np.arange(6, 21, 2),\n",
    "    'learning_rate': [0.01, 0.1, 0.3, 0.5]\n",
    "}"
   ]
  },
  {
   "cell_type": "code",
   "execution_count": null,
   "metadata": {},
   "outputs": [],
   "source": [
    "# Realizar GridSearchCV para encontrar los hiperparámetros óptimos\n",
    "grid_search_xgb = GridSearchCV(xgb.XGBClassifier(random_state=100), param_grid_xgb, cv=5, scoring='accuracy', n_jobs=-1)\n",
    "grid_search_xgb.fit(X_train, y_train)\n",
    "\n"
   ]
  },
  {
   "cell_type": "code",
   "execution_count": null,
   "metadata": {},
   "outputs": [],
   "source": [
    "# Obtener los mejores hiperparámetros\n",
    "best_params_xgb = grid_search_xgb.best_params_\n",
    "optimal_xgb = xgb.XGBClassifier(random_state=100, **best_params_xgb)\n"
   ]
  },
  {
   "cell_type": "code",
   "execution_count": null,
   "metadata": {},
   "outputs": [],
   "source": [
    "# Entrenar el modelo con los hiperparámetros óptimos\n",
    "optimal_xgb.fit(X_train, y_train)\n",
    "\n",
    "# Predicciones en el conjunto de test\n",
    "y_pred_optimal_xgb = optimal_xgb.predict(X_test)\n",
    "\n",
    "# Cálculo de métricas de evaluación\n",
    "accuracy_optimal_xgb = accuracy_score(y_test, y_pred_optimal_xgb)\n",
    "f1_optimal_xgb = f1_score(y_test, y_pred_optimal_xgb, average='weighted')\n",
    "classification_optimal_xgb = classification_report(y_test, y_pred_optimal_xgb, zero_division=0)"
   ]
  },
  {
   "cell_type": "code",
   "execution_count": null,
   "metadata": {},
   "outputs": [],
   "source": [
    "# Mostrar las métricas\n",
    "print(\"Accuracy XGBoost Classifier (Optimal):\", accuracy_optimal_xgb)\n",
    "print(\"F1-score XGBoost Classifier (Optimal, average='weighted'):\", f1_optimal_xgb)\n",
    "print(\"Classification Report XGBoost Classifier (Optimal):\\n\", classification_optimal_xgb)\n",
    "\n",
    "# Obtener los valores de los hiperparámetros óptimos\n",
    "optimal_n_estimators = best_params_xgb['n_estimators']\n",
    "optimal_max_depth = best_params_xgb['max_depth']\n",
    "optimal_learning_rate = best_params_xgb['learning_rate']"
   ]
  },
  {
   "cell_type": "code",
   "execution_count": null,
   "metadata": {},
   "outputs": [],
   "source": [
    "# Crear la curva de complejidad para el número de árboles\n",
    "plt.figure(figsize=(10, 6))\n",
    "plt.title(\"Curva de Complejidad del Modelo XGBoost (Número de Árboles)\")\n",
    "plt.xlabel(\"Número de Árboles\")\n",
    "plt.ylabel(\"Score\")\n",
    "plt.xticks(param_grid_xgb['n_estimators'])\n",
    "plt.plot(param_grid_xgb['n_estimators'], grid_search_xgb.cv_results_['mean_test_score'])\n",
    "plt.show()"
   ]
  },
  {
   "cell_type": "code",
   "execution_count": null,
   "metadata": {},
   "outputs": [],
   "source": [
    "# Crear la curva de complejidad para la profundidad máxima\n",
    "plt.figure(figsize=(10, 6))\n",
    "plt.title(\"Curva de Complejidad del Modelo XGBoost (Profundidad Máxima)\")\n",
    "plt.xlabel(\"Profundidad Máxima\")\n",
    "plt.ylabel(\"Score\")\n",
    "plt.xticks(param_grid_xgb['max_depth'])\n",
    "plt.plot(param_grid_xgb['max_depth'], grid_search_xgb.cv_results_['mean_test_score'])\n",
    "plt.show()"
   ]
  },
  {
   "cell_type": "code",
   "execution_count": null,
   "metadata": {},
   "outputs": [],
   "source": [
    "# Crear la curva de complejidad para el learning rate\n",
    "plt.figure(figsize=(10, 6))\n",
    "plt.title(\"Curva de Complejidad del Modelo XGBoost (Learning Rate)\")\n",
    "plt.xlabel(\"Learning Rate\")\n",
    "plt.ylabel(\"Score\")\n",
    "plt.xticks(np.arange(len(param_grid_xgb['learning_rate'])), param_grid_xgb['learning_rate'])\n",
    "plt.plot(range(len(param_grid_xgb['learning_rate'])), grid_search_xgb.cv_results_['mean_test_score'])\n",
    "plt.show()"
   ]
  },
  {
   "attachments": {},
   "cell_type": "markdown",
   "metadata": {},
   "source": [
    "Ejercicio 7\n",
    "\n",
    "Ahora probamos la creación de otros modelos basados en métodos Bayesianos:\n",
    "\n",
    "7.1 Entrena un modelo para cada tipo de algoritmos Bayesianos y calcula las métricas correspondientes para analizar sus rendimientos en comparación con los modelos anteriores:\n",
    "\n",
    "GaussianNB\n",
    "MultinomialNB\n",
    "ComplementNB\n",
    "BernoulliNB\n",
    "Accuracy\n",
    "F1-score (average='weighted')\n",
    "Classification report (zero_division=0)\n",
    "\n",
    "7.2 Saca la gráfica del Learning Curve para el modelo GaussianNB y explica si este modelo sufre de un posible \"Overfitting\" o \"Underfitting\" comparando con modelos anteriores.\n",
    "\n",
    "random_state=100\n",
    "(Sugerencia: No incluya más de 10 puntos en el eje horizontal y empieza la gráfica con un mínimo de 1000 muestras para el modelo)"
   ]
  },
  {
   "cell_type": "code",
   "execution_count": 32,
   "metadata": {},
   "outputs": [
    {
     "name": "stdout",
     "output_type": "stream",
     "text": [
      "Metrics for GaussianNB:\n",
      "Accuracy GaussianNB: 0.6318167345077149\n",
      "F1-score GaussianNB (average='weighted'): 0.6243002427611203\n",
      "Classification Report GaussianNB:\n",
      "               precision    recall  f1-score   support\n",
      "\n",
      "           0       0.00      0.00      0.00         1\n",
      "           1       0.00      0.00      0.00       452\n",
      "           2       0.36      0.11      0.17       610\n",
      "           3       0.00      0.00      0.00       457\n",
      "           4       0.00      0.00      0.00       443\n",
      "           5       0.00      0.00      0.00       444\n",
      "           6       0.00      0.00      0.00       405\n",
      "           7       0.41      0.36      0.39       461\n",
      "           8       0.72      0.68      0.70     55836\n",
      "           9       0.63      0.68      0.65     42096\n",
      "          10       0.25      0.12      0.16      1407\n",
      "          11       0.23      0.24      0.24      3719\n",
      "          12       0.47      0.73      0.57      6737\n",
      "          13       0.29      0.26      0.27      3005\n",
      "          14       0.00      0.00      0.00       130\n",
      "\n",
      "    accuracy                           0.63    116203\n",
      "   macro avg       0.22      0.21      0.21    116203\n",
      "weighted avg       0.62      0.63      0.62    116203\n",
      "\n",
      "Metrics for MultinomialNB:\n",
      "Accuracy MultinomialNB: 0.4805039456812647\n",
      "F1-score MultinomialNB (average='weighted'): 0.31189925901753784\n",
      "Classification Report MultinomialNB:\n",
      "               precision    recall  f1-score   support\n",
      "\n",
      "           0       0.00      0.00      0.00         1\n",
      "           1       0.00      0.00      0.00       452\n",
      "           2       0.00      0.00      0.00       610\n",
      "           3       0.00      0.00      0.00       457\n",
      "           4       0.00      0.00      0.00       443\n",
      "           5       0.00      0.00      0.00       444\n",
      "           6       0.00      0.00      0.00       405\n",
      "           7       0.00      0.00      0.00       461\n",
      "           8       0.48      1.00      0.65     55836\n",
      "           9       0.00      0.00      0.00     42096\n",
      "          10       0.00      0.00      0.00      1407\n",
      "          11       0.00      0.00      0.00      3719\n",
      "          12       0.00      0.00      0.00      6737\n",
      "          13       0.00      0.00      0.00      3005\n",
      "          14       0.00      0.00      0.00       130\n",
      "\n",
      "    accuracy                           0.48    116203\n",
      "   macro avg       0.03      0.07      0.04    116203\n",
      "weighted avg       0.23      0.48      0.31    116203\n",
      "\n",
      "Metrics for ComplementNB:\n",
      "Accuracy ComplementNB: 0.35426796210080636\n",
      "F1-score ComplementNB (average='weighted'): 0.3727991691484695\n",
      "Classification Report ComplementNB:\n",
      "               precision    recall  f1-score   support\n",
      "\n",
      "           0       0.00      0.00      0.00         1\n",
      "           1       0.00      0.00      0.00       452\n",
      "           2       0.00      0.00      0.00       610\n",
      "           3       0.00      0.00      0.00       457\n",
      "           4       0.00      0.00      0.00       443\n",
      "           5       0.00      0.00      0.00       444\n",
      "           6       0.00      0.00      0.00       405\n",
      "           7       0.00      0.00      0.00       461\n",
      "           8       0.56      0.40      0.46     55836\n",
      "           9       0.50      0.30      0.38     42096\n",
      "          10       0.02      0.00      0.01      1407\n",
      "          11       0.07      0.01      0.01      3719\n",
      "          12       0.12      0.93      0.22      6737\n",
      "          13       0.00      0.00      0.00      3005\n",
      "          14       0.00      0.00      0.00       130\n",
      "\n",
      "    accuracy                           0.35    116203\n",
      "   macro avg       0.08      0.11      0.07    116203\n",
      "weighted avg       0.46      0.35      0.37    116203\n",
      "\n",
      "Metrics for BernoulliNB:\n",
      "Accuracy BernoulliNB: 0.48424739464557714\n",
      "F1-score BernoulliNB (average='weighted'): 0.34898744152756217\n",
      "Classification Report BernoulliNB:\n",
      "               precision    recall  f1-score   support\n",
      "\n",
      "           0       0.00      0.00      0.00         1\n",
      "           1       0.00      0.00      0.00       452\n",
      "           2       0.00      0.00      0.00       610\n",
      "           3       0.00      0.00      0.00       457\n",
      "           4       0.00      0.00      0.00       443\n",
      "           5       0.00      0.00      0.00       444\n",
      "           6       0.00      0.00      0.00       405\n",
      "           7       0.00      0.00      0.00       461\n",
      "           8       0.49      0.96      0.65     55836\n",
      "           9       0.44      0.06      0.11     42096\n",
      "          10       0.00      0.00      0.00      1407\n",
      "          11       0.00      0.00      0.00      3719\n",
      "          12       0.00      0.00      0.00      6737\n",
      "          13       0.00      0.00      0.00      3005\n",
      "          14       0.00      0.00      0.00       130\n",
      "\n",
      "    accuracy                           0.48    116203\n",
      "   macro avg       0.06      0.07      0.05    116203\n",
      "weighted avg       0.39      0.48      0.35    116203\n",
      "\n"
     ]
    }
   ],
   "source": [
    "from sklearn.naive_bayes import GaussianNB, MultinomialNB, ComplementNB, BernoulliNB\n",
    "\n",
    "# Entrenar modelos Bayesiano\n",
    "gaussian_nb = GaussianNB()\n",
    "multinomial_nb = MultinomialNB()\n",
    "complement_nb = ComplementNB()\n",
    "bernoulli_nb = BernoulliNB()\n",
    "\n",
    "# Entrenar modelos Bayesiano\n",
    "gaussian_nb.fit(X_train, y_train)\n",
    "multinomial_nb.fit(X_train, y_train)\n",
    "complement_nb.fit(X_train, y_train)\n",
    "bernoulli_nb.fit(X_train, y_train)\n",
    "\n",
    "# Predicciones en el conjunto de test\n",
    "y_pred_gaussian_nb = gaussian_nb.predict(X_test)\n",
    "y_pred_multinomial_nb = multinomial_nb.predict(X_test)\n",
    "y_pred_complement_nb = complement_nb.predict(X_test)\n",
    "y_pred_bernoulli_nb = bernoulli_nb.predict(X_test)\n",
    "\n",
    "# Cálculo de métricas de evaluación para GaussianNB\n",
    "accuracy_gaussian_nb = accuracy_score(y_test, y_pred_gaussian_nb)\n",
    "f1_gaussian_nb = f1_score(y_test, y_pred_gaussian_nb, average='weighted')\n",
    "classification_gaussian_nb = classification_report(y_test, y_pred_gaussian_nb, zero_division=0)\n",
    "\n",
    "# Cálculo de métricas de evaluación para MultinomialNB\n",
    "accuracy_multinomial_nb = accuracy_score(y_test, y_pred_multinomial_nb)\n",
    "f1_multinomial_nb = f1_score(y_test, y_pred_multinomial_nb, average='weighted')\n",
    "classification_multinomial_nb = classification_report(y_test, y_pred_multinomial_nb, zero_division=0)\n",
    "\n",
    "# Cálculo de métricas de evaluación para ComplementNB\n",
    "accuracy_complement_nb = accuracy_score(y_test, y_pred_complement_nb)\n",
    "f1_complement_nb = f1_score(y_test, y_pred_complement_nb, average='weighted')\n",
    "classification_complement_nb = classification_report(y_test, y_pred_complement_nb, zero_division=0)\n",
    "\n",
    "# Cálculo de métricas de evaluación para BernoulliNB\n",
    "accuracy_bernoulli_nb = accuracy_score(y_test, y_pred_bernoulli_nb)\n",
    "f1_bernoulli_nb = f1_score(y_test, y_pred_bernoulli_nb, average='weighted')\n",
    "classification_bernoulli_nb = classification_report(y_test, y_pred_bernoulli_nb, zero_division=0)\n",
    "\n",
    "# Mostrar las métricas para cada modelo Bayesiano\n",
    "print(\"Metrics for GaussianNB:\")\n",
    "print(\"Accuracy GaussianNB:\", accuracy_gaussian_nb)\n",
    "print(\"F1-score GaussianNB (average='weighted'):\", f1_gaussian_nb)\n",
    "print(\"Classification Report GaussianNB:\\n\", classification_gaussian_nb)\n",
    "\n",
    "print(\"Metrics for MultinomialNB:\")\n",
    "print(\"Accuracy MultinomialNB:\", accuracy_multinomial_nb)\n",
    "print(\"F1-score MultinomialNB (average='weighted'):\", f1_multinomial_nb)\n",
    "print(\"Classification Report MultinomialNB:\\n\", classification_multinomial_nb)\n",
    "\n",
    "print(\"Metrics for ComplementNB:\")\n",
    "print(\"Accuracy ComplementNB:\", accuracy_complement_nb)\n",
    "print(\"F1-score ComplementNB (average='weighted'):\", f1_complement_nb)\n",
    "print(\"Classification Report ComplementNB:\\n\", classification_complement_nb)\n",
    "\n",
    "print(\"Metrics for BernoulliNB:\")\n",
    "print(\"Accuracy BernoulliNB:\", accuracy_bernoulli_nb)\n",
    "print(\"F1-score BernoulliNB (average='weighted'):\", f1_bernoulli_nb)\n",
    "print(\"Classification Report BernoulliNB:\\n\", classification_bernoulli_nb)\n",
    "\n"
   ]
  },
  {
   "cell_type": "code",
   "execution_count": null,
   "metadata": {},
   "outputs": [],
   "source": [
    "from sklearn.model_selection import learning_curve\n",
    "import numpy as np\n",
    "\n",
    "# Definir función para plotear la Learning Curve\n",
    "def plot_learning_curve(estimator, title, X, y, cv, train_sizes):\n",
    "    train_sizes, train_scores, test_scores = learning_curve(estimator, X, y, cv=cv, train_sizes=train_sizes, scoring='accuracy', n_jobs=-1)\n",
    "    train_scores_mean = np.mean(train_scores, axis=1)\n",
    "    train_scores_std = np.std(train_scores, axis=1)\n",
    "    test_scores_mean = np.mean(test_scores, axis=1)\n",
    "    test_scores_std = np.std(test_scores, axis=1)\n",
    "\n",
    "    plt.figure(figsize=(10, 6))\n",
    "    plt.title(title)\n",
    "    plt.xlabel(\"Training Set Size\")\n",
    "    plt.ylabel(\"Accuracy Score\")\n",
    "    plt.grid()\n",
    "\n",
    "    plt.fill_between(train_sizes, train_scores_mean - train_scores_std, train_scores_mean + train_scores_std, alpha=0.1, color=\"r\")\n",
    "    plt.fill_between(train_sizes, test_scores_mean - test_scores_std, test_scores_mean + test_scores_std, alpha=0.1, color=\"g\")\n",
    "    plt.plot(train_sizes, train_scores_mean, 'o-', color=\"r\", label=\"Training Accuracy\")\n",
    "    plt.plot(train_sizes, test_scores_mean, 'o-', color=\"g\", label=\"Cross-Validation Accuracy\")\n",
    "    plt.legend(loc=\"best\")\n",
    "\n",
    "    return plt\n",
    "\n",
    "# Definir los tamaños de entrenamiento para la Learning Curve\n",
    "train_sizes = [1000, 2000, 3000, 4000, 5000]\n",
    "\n",
    "# Crear y entrenar modelo GaussianNB\n",
    "gaussian_nb = GaussianNB()\n",
    "gaussian_nb.fit(X_train, y_train)\n",
    "\n",
    "# Plotear la Learning Curve para GaussianNB\n",
    "title = \"Learning Curve (GaussianNB)\"\n",
    "plot_learning_curve(gaussian_nb, title, X_train, y_train, cv=5, train_sizes=train_sizes)\n",
    "\n",
    "# Mostrar la gráfica\n",
    "plt.show()\n"
   ]
  },
  {
   "attachments": {},
   "cell_type": "markdown",
   "metadata": {},
   "source": [
    "Ejercicio 8\n",
    "\n",
    "Ahora probamos la creación de otros modelo basados en K vecinos más cercanos:\n",
    "\n",
    "8.1 Entrena un modelo tipo K-Nearest Neighbors con la configuración por defecto y otros dos modelos con 1 y 100 vecinos más cercanos. Calcula las métricas correspondientes para analizar sus rendimientos en comparación con el modelo anteriores:\n",
    "\n",
    "random_state=100\n",
    "Accuracy\n",
    "F1-score (average='weighted')\n",
    "Classification report (zero_division=0)\n",
    "8.2 Saca la gráfica del Learning Curve para estos modelos, definiendo y aplicando una función que toma el valor del hiperparámetro analizado como su entrada y dibuja la evolución del rendimiento del modelo para el conjunto de training y de test. Explica si este último modelo tiene preferencia o no, comparando con modelos anteriores.\n",
    "\n",
    "(Sugerencia: No incluya más de 5 puntos en el eje horizontal y empieza la gráfica con un mínimo de 1000 muestras para el modelo)"
   ]
  },
  {
   "cell_type": "code",
   "execution_count": null,
   "metadata": {},
   "outputs": [],
   "source": [
    "from sklearn.neighbors import KNeighborsClassifier\n",
    "\n",
    "# Entrenar modelos K-Nearest Neighbors\n",
    "knn_default = KNeighborsClassifier()\n",
    "knn_1_neighbor = KNeighborsClassifier(n_neighbors=1)\n",
    "knn_100_neighbors = KNeighborsClassifier(n_neighbors=100)\n",
    "\n",
    "# Entrenar modelos K-Nearest Neighbors\n",
    "knn_default.fit(X_train, y_train)\n",
    "knn_1_neighbor.fit(X_train, y_train)\n",
    "knn_100_neighbors.fit(X_train, y_train)\n",
    "\n",
    "# Predicciones en el conjunto de test\n",
    "y_pred_knn_default = knn_default.predict(X_test)\n",
    "y_pred_knn_1_neighbor = knn_1_neighbor.predict(X_test)\n",
    "y_pred_knn_100_neighbors = knn_100_neighbors.predict(X_test)\n",
    "\n",
    "# Cálculo de métricas de evaluación para K-Nearest Neighbors con configuración por defecto\n",
    "accuracy_knn_default = accuracy_score(y_test, y_pred_knn_default)\n",
    "f1_knn_default = f1_score(y_test, y_pred_knn_default, average='weighted')\n",
    "classification_knn_default = classification_report(y_test, y_pred_knn_default, zero_division=0)\n",
    "\n",
    "# Cálculo de métricas de evaluación para K-Nearest Neighbors con 1 vecino más cercano\n",
    "accuracy_knn_1_neighbor = accuracy_score(y_test, y_pred_knn_1_neighbor)\n",
    "f1_knn_1_neighbor = f1_score(y_test, y_pred_knn_1_neighbor, average='weighted')\n",
    "classification_knn_1_neighbor = classification_report(y_test, y_pred_knn_1_neighbor, zero_division=0)\n",
    "\n",
    "# Cálculo de métricas de evaluación para K-Nearest Neighbors con 100 vecinos más cercanos\n",
    "accuracy_knn_100_neighbors = accuracy_score(y_test, y_pred_knn_100_neighbors)\n",
    "f1_knn_100_neighbors = f1_score(y_test, y_pred_knn_100_neighbors, average='weighted')\n",
    "classification_knn_100_neighbors = classification_report(y_test, y_pred_knn_100_neighbors, zero_division=0)\n",
    "\n",
    "# Mostrar las métricas para cada modelo K-Nearest Neighbors\n",
    "print(\"Metrics for K-Nearest Neighbors with default configuration:\")\n",
    "print(\"Accuracy:\", accuracy_knn_default)\n",
    "print(\"F1-score (average='weighted'):\", f1_knn_default)\n",
    "print(\"Classification Report:\\n\", classification_knn_default)\n",
    "\n",
    "print(\"Metrics for K-Nearest Neighbors with 1 neighbor:\")\n",
    "print(\"Accuracy:\", accuracy_knn_1_neighbor)\n",
    "print(\"F1-score (average='weighted'):\", f1_knn_1_neighbor)\n",
    "print(\"Classification Report:\\n\", classification_knn_1_neighbor)\n",
    "\n",
    "print(\"Metrics for K-Nearest Neighbors with 100 neighbors:\")\n",
    "print(\"Accuracy:\", accuracy_knn_100_neighbors)\n",
    "print(\"F1-score (average='weighted'):\", f1_knn_100_neighbors)\n",
    "print(\"Classification Report:\\n\", classification_knn_100_neighbors)\n"
   ]
  },
  {
   "cell_type": "code",
   "execution_count": null,
   "metadata": {},
   "outputs": [],
   "source": [
    "from sklearn.model_selection import learning_curve\n",
    "import matplotlib.pyplot as plt\n",
    "import numpy as np\n",
    "\n",
    "# Definir función para plotear la Learning Curve\n",
    "def plot_learning_curve(estimator, title, X, y, cv, train_sizes):\n",
    "    train_sizes, train_scores, test_scores = learning_curve(estimator, X, y, cv=cv, train_sizes=train_sizes, scoring='accuracy')\n",
    "    train_scores_mean = np.mean(train_scores, axis=1)\n",
    "    train_scores_std = np.std(train_scores, axis=1)\n",
    "    test_scores_mean = np.mean(test_scores, axis=1)\n",
    "    test_scores_std = np.std(test_scores, axis=1)\n",
    "\n",
    "    plt.figure(figsize=(10, 6))\n",
    "    plt.title(title)\n",
    "    plt.xlabel(\"Training Set Size\")\n",
    "    plt.ylabel(\"Accuracy Score\")\n",
    "    plt.grid()\n",
    "\n",
    "    plt.fill_between(train_sizes, train_scores_mean - train_scores_std, train_scores_mean + train_scores_std, alpha=0.1, color=\"r\")\n",
    "    plt.fill_between(train_sizes, test_scores_mean - test_scores_std, test_scores_mean + test_scores_std, alpha=0.1, color=\"g\")\n",
    "    plt.plot(train_sizes, train_scores_mean, 'o-', color=\"r\", label=\"Training Accuracy\")\n",
    "    plt.plot(train_sizes, test_scores_mean, 'o-', color=\"g\", label=\"Cross-Validation Accuracy\")\n",
    "    plt.legend(loc=\"best\")\n",
    "\n",
    "    return plt\n",
    "\n",
    "# Definir los tamaños de entrenamiento para la Learning Curve\n",
    "train_sizes = [1000, 2000, 3000, 4000, 5000]\n",
    "\n",
    "# Crear y entrenar modelo K-Nearest Neighbors con configuración por defecto\n",
    "knn_default = KNeighborsClassifier()\n",
    "knn_default.fit(X_train, y_train)\n",
    "\n",
    "# Crear y entrenar modelo K-Nearest Neighbors con 1 vecino más cercano\n",
    "knn_1_neighbor = KNeighborsClassifier(n_neighbors=1)\n",
    "knn_1_neighbor.fit(X_train, y_train)\n",
    "\n",
    "# Crear y entrenar modelo K-Nearest Neighbors con 100 vecinos más cercanos\n",
    "knn_100_neighbors = KNeighborsClassifier(n_neighbors=100)\n",
    "knn_100_neighbors.fit(X_train, y_train)\n",
    "\n",
    "# Plotear la Learning Curve para K-Nearest Neighbors con configuración por defecto\n",
    "title = \"Learning Curve (K-Nearest Neighbors - Default Configuration)\"\n",
    "plot_learning_curve(knn_default, title, X_train, y_train, cv=5, train_sizes=train_sizes)\n",
    "\n",
    "# Plotear la Learning Curve para K-Nearest Neighbors con 1 vecino más cercano\n",
    "title = \"Learning Curve (K-Nearest Neighbors - 1 Neighbor)\"\n",
    "plot_learning_curve(knn_1_neighbor, title, X_train, y_train, cv=5, train_sizes=train_sizes)\n",
    "\n",
    "# Plotear la Learning Curve para K-Nearest Neighbors con 100 vecinos más cercanos\n",
    "title = \"Learning Curve (K-Nearest Neighbors - 100 Neighbors)\"\n",
    "plot_learning_curve(knn_100_neighbors, title, X_train, y_train, cv=5, train_sizes=train_sizes)\n",
    "\n",
    "# Mostrar las gráficas\n",
    "plt.show()\n"
   ]
  }
 ],
 "metadata": {
  "kernelspec": {
   "display_name": "Python 3",
   "language": "python",
   "name": "python3"
  },
  "language_info": {
   "codemirror_mode": {
    "name": "ipython",
    "version": 3
   },
   "file_extension": ".py",
   "mimetype": "text/x-python",
   "name": "python",
   "nbconvert_exporter": "python",
   "pygments_lexer": "ipython3",
   "version": "3.10.11"
  },
  "orig_nbformat": 4
 },
 "nbformat": 4,
 "nbformat_minor": 2
}
